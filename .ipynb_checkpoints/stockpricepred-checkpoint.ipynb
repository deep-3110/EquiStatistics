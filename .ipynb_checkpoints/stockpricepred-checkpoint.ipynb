{
 "cells": [
  {
   "cell_type": "markdown",
   "id": "76db0f95",
   "metadata": {},
   "source": [
    "### Stock Price Prediction Model using Linear Regression"
   ]
  },
  {
   "cell_type": "markdown",
   "id": "2de88d0a",
   "metadata": {},
   "source": [
    "#### Importing Modules"
   ]
  },
  {
   "cell_type": "code",
   "execution_count": 35,
   "id": "401a3db2",
   "metadata": {},
   "outputs": [],
   "source": [
    "\n",
    "from datetime import date\n",
    "from sklearn import preprocessing\n",
    "from sklearn.model_selection import train_test_split\n",
    "from sklearn.linear_model import LinearRegression\n",
    "import pandas as pd\n",
    "import numpy as np\n",
    "from sklearn.metrics import mean_squared_error,r2_score,mean_absolute_error\n"
   ]
  },
  {
   "cell_type": "markdown",
   "id": "86c39c05",
   "metadata": {},
   "source": [
    "#### Creating a dataframe"
   ]
  },
  {
   "cell_type": "code",
   "execution_count": 36,
   "id": "95de0a8a",
   "metadata": {},
   "outputs": [
    {
     "data": {
      "text/html": [
       "<div>\n",
       "<style scoped>\n",
       "    .dataframe tbody tr th:only-of-type {\n",
       "        vertical-align: middle;\n",
       "    }\n",
       "\n",
       "    .dataframe tbody tr th {\n",
       "        vertical-align: top;\n",
       "    }\n",
       "\n",
       "    .dataframe thead th {\n",
       "        text-align: right;\n",
       "    }\n",
       "</style>\n",
       "<table border=\"1\" class=\"dataframe\">\n",
       "  <thead>\n",
       "    <tr style=\"text-align: right;\">\n",
       "      <th></th>\n",
       "      <th>Unnamed: 0</th>\n",
       "      <th>close</th>\n",
       "      <th>low</th>\n",
       "      <th>volume</th>\n",
       "      <th>open</th>\n",
       "      <th>high</th>\n",
       "      <th>adjclose</th>\n",
       "    </tr>\n",
       "  </thead>\n",
       "  <tbody>\n",
       "    <tr>\n",
       "      <th>0</th>\n",
       "      <td>2021-01-04</td>\n",
       "      <td>129.410004</td>\n",
       "      <td>126.760002</td>\n",
       "      <td>143301900</td>\n",
       "      <td>133.520004</td>\n",
       "      <td>133.610001</td>\n",
       "      <td>128.804825</td>\n",
       "    </tr>\n",
       "    <tr>\n",
       "      <th>1</th>\n",
       "      <td>2021-01-05</td>\n",
       "      <td>131.009995</td>\n",
       "      <td>128.429993</td>\n",
       "      <td>97664900</td>\n",
       "      <td>128.889999</td>\n",
       "      <td>131.740005</td>\n",
       "      <td>130.397324</td>\n",
       "    </tr>\n",
       "    <tr>\n",
       "      <th>2</th>\n",
       "      <td>2021-01-06</td>\n",
       "      <td>126.599998</td>\n",
       "      <td>126.379997</td>\n",
       "      <td>155088000</td>\n",
       "      <td>127.720001</td>\n",
       "      <td>131.050003</td>\n",
       "      <td>126.007957</td>\n",
       "    </tr>\n",
       "    <tr>\n",
       "      <th>3</th>\n",
       "      <td>2021-01-07</td>\n",
       "      <td>130.919998</td>\n",
       "      <td>127.860001</td>\n",
       "      <td>109578200</td>\n",
       "      <td>128.360001</td>\n",
       "      <td>131.630005</td>\n",
       "      <td>130.307755</td>\n",
       "    </tr>\n",
       "    <tr>\n",
       "      <th>4</th>\n",
       "      <td>2021-01-08</td>\n",
       "      <td>132.050003</td>\n",
       "      <td>130.229996</td>\n",
       "      <td>105158200</td>\n",
       "      <td>132.429993</td>\n",
       "      <td>132.630005</td>\n",
       "      <td>131.432465</td>\n",
       "    </tr>\n",
       "  </tbody>\n",
       "</table>\n",
       "</div>"
      ],
      "text/plain": [
       "   Unnamed: 0       close         low     volume        open        high  \\\n",
       "0  2021-01-04  129.410004  126.760002  143301900  133.520004  133.610001   \n",
       "1  2021-01-05  131.009995  128.429993   97664900  128.889999  131.740005   \n",
       "2  2021-01-06  126.599998  126.379997  155088000  127.720001  131.050003   \n",
       "3  2021-01-07  130.919998  127.860001  109578200  128.360001  131.630005   \n",
       "4  2021-01-08  132.050003  130.229996  105158200  132.429993  132.630005   \n",
       "\n",
       "     adjclose  \n",
       "0  128.804825  \n",
       "1  130.397324  \n",
       "2  126.007957  \n",
       "3  130.307755  \n",
       "4  131.432465  "
      ]
     },
     "execution_count": 36,
     "metadata": {},
     "output_type": "execute_result"
    }
   ],
   "source": [
    "df=pd.read_csv('datasets/stock_data.csv')\n",
    "df.head()"
   ]
  },
  {
   "cell_type": "markdown",
   "id": "929b76a3",
   "metadata": {},
   "source": [
    "#### Preparing the data"
   ]
  },
  {
   "cell_type": "code",
   "execution_count": 37,
   "id": "1c7d1a57",
   "metadata": {},
   "outputs": [],
   "source": [
    "def prepare_data(df,forecast_col,forecast_out,test_size):\n",
    "    #creating new column called label with the last 5 rows are nan\n",
    "    label=df[forecast_col].shift(-forecast_out)\n",
    "    #creating the feature array\n",
    "    X=np.array(df[[forecast_col]])\n",
    "    #processing the feature array\n",
    "    X_lately=X[-forecast_out:]\n",
    "    #X that will contain the training and testing\n",
    "    X=X[:-forecast_out]\n",
    "    #dropping na values\n",
    "    label.dropna(inplace=True)\n",
    "    #assigning Y\n",
    "    y=np.array(label)\n",
    "    #cross validation\n",
    "    X_train,X_test,Y_train,Y_test=train_test_split(X,y,test_size=test_size,random_state=0)\n",
    "    response=[X_train,X_test,Y_train,Y_test,X_lately]\n",
    "    return response\n",
    "    "
   ]
  },
  {
   "cell_type": "code",
   "execution_count": 38,
   "id": "d8daaac6",
   "metadata": {},
   "outputs": [],
   "source": [
    "forecast_col='close'\n",
    "forecast_out=5\n",
    "test_size=0.2\n",
    "#calling the method where the cross validation and data preparation is in\n",
    "X_train,X_test,Y_train,Y_test,X_lately=prepare_data(df,forecast_col,forecast_out,test_size)"
   ]
  },
  {
   "cell_type": "code",
   "execution_count": 39,
   "id": "d57d812f",
   "metadata": {},
   "outputs": [
    {
     "name": "stdout",
     "output_type": "stream",
     "text": [
      "[146.27329027 144.82084742 141.57863455 142.44072625 141.70044238]\n"
     ]
    }
   ],
   "source": [
    "#initializing the linear regression model\n",
    "learner=LinearRegression()\n",
    "#training the linear regression model\n",
    "learner.fit(X_train,Y_train)\n",
    "#testing the linear regression model\n",
    "score=learner.score(X_test,Y_test)\n",
    "#set that will contain the forecasted data\n",
    "forecast=learner.predict(X_lately)\n",
    "#creating json object\n",
    "response={}\n",
    "response['test_score']= score\n",
    "response['forecast_set']=forecast\n",
    "print(response['forecast_set'])"
   ]
  },
  {
   "cell_type": "markdown",
   "id": "ebb5415a",
   "metadata": {},
   "source": [
    "#### Model Metrics"
   ]
  },
  {
   "cell_type": "code",
   "execution_count": 40,
   "id": "7508ef33",
   "metadata": {},
   "outputs": [
    {
     "name": "stdout",
     "output_type": "stream",
     "text": [
      "Coefficients: \n",
      " [0.93705806]\n",
      "R-squared:80.18383468451941%\n",
      "Mean Squared Error:16.69\n",
      "Variance score:0.80\n"
     ]
    }
   ],
   "source": [
    "#printout relevant metrics\n",
    "y_pred=learner.predict(X_test)\n",
    "print('Coefficients: \\n',learner.coef_)\n",
    "r2_score=learner.score(X_test,Y_test)\n",
    "Rsquared=str((r2_score*100))\n",
    "print('R-squared:'+Rsquared+'%')\n",
    "print(\"Mean Squared Error:%.2f\"%np.mean((learner.predict(X_test)-Y_test)**2))\n",
    "#Variance Score: 1 is perfect for prediction\n",
    "print('Variance score:%.2f'%learner.score(X_test,Y_test))"
   ]
  },
  {
   "cell_type": "code",
   "execution_count": null,
   "id": "902ccf2b",
   "metadata": {},
   "outputs": [],
   "source": []
  },
  {
   "cell_type": "code",
   "execution_count": null,
   "id": "8cd83269",
   "metadata": {},
   "outputs": [],
   "source": []
  }
 ],
 "metadata": {
  "kernelspec": {
   "display_name": "Python 3",
   "language": "python",
   "name": "python3"
  },
  "language_info": {
   "codemirror_mode": {
    "name": "ipython",
    "version": 3
   },
   "file_extension": ".py",
   "mimetype": "text/x-python",
   "name": "python",
   "nbconvert_exporter": "python",
   "pygments_lexer": "ipython3",
   "version": "3.8.8"
  }
 },
 "nbformat": 4,
 "nbformat_minor": 5
}
